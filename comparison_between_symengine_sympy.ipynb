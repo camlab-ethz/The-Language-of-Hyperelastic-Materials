{
 "cells": [
  {
   "cell_type": "code",
   "execution_count": 1,
   "metadata": {},
   "outputs": [],
   "source": [
    "import sympy \n",
    "import symengine as se\n",
    "import constitutive_data\n",
    "import numpy as np"
   ]
  },
  {
   "cell_type": "code",
   "execution_count": 2,
   "metadata": {},
   "outputs": [],
   "source": [
    "def scalar_derivation_wrt_matrix(sympy_expression, matrix, dim=3):\n",
    "    P = sympy.zeros(dim)\n",
    "    for ii in range(dim):\n",
    "        for jj in range(dim):\n",
    "            P[ii,jj] = sympy.diff(sympy_expression,matrix[ii,jj])\n",
    "    P_matrix = sympy.Matrix(P)\n",
    "    return P_matrix"
   ]
  },
  {
   "cell_type": "code",
   "execution_count": 3,
   "metadata": {},
   "outputs": [],
   "source": [
    "nodes,adj = constitutive_data.sample_tree()"
   ]
  },
  {
   "cell_type": "code",
   "execution_count": 4,
   "metadata": {},
   "outputs": [],
   "source": [
    "def to_algebraic_string(nodes, adj, i = 0):\n",
    "    if list(',') in list(map(str.split, nodes[i])):\n",
    "        return list(map(str.split, str(nodes[i])))[0][0] + '.'+ list(map(str.split, str(nodes[i])))[2][0]\n",
    "    if nodes[i] == '+' or nodes[i] == '*' or nodes[i] == '-'  or nodes[i] == '/':\n",
    "        return to_algebraic_string(nodes, adj, adj[i][0]) + ' ' + nodes[i] + ' ' + to_algebraic_string(nodes, adj, adj[i][1])\n",
    "    if nodes[i] == 'log' or nodes[i] == 'exp':\n",
    "        return nodes[i] + '(' + to_algebraic_string(nodes, adj, adj[i][0]) + ')'\n",
    "    if nodes[i] == 'pow':\n",
    "        return '(' + to_algebraic_string(nodes, adj, adj[i][0]) + ')' + '**' + to_algebraic_string(nodes, adj, adj[i][1])\n",
    "    if nodes[i] == '(J-1)':\n",
    "        return '(' + nodes[i] + ')' \n",
    "    if nodes[i] == '(I1-3)':\n",
    "        return '(' + 'I1-3' + ')' \n",
    "    if nodes[i] == '(I2-3)':\n",
    "        return '(' + 'I2-3' + ')'\n",
    "    else:\n",
    "        return nodes[i]"
   ]
  },
  {
   "cell_type": "code",
   "execution_count": 36,
   "metadata": {},
   "outputs": [],
   "source": [
    "def stress_correction(sympy_expression, F, J, dim=3):\n",
    "    dWdF = sympy.diff(sympy_expression, J)\n",
    "    return dWdF\n",
    "\n",
    "def get_J(dim=3):\n",
    "    return sympy.Symbol(\"J\")\n",
    "    \n",
    "def get_J_wrt_F(dim=3):\n",
    "    return sympy.Determinant(sympy.MatrixSymbol(\"F\",dim,dim).as_explicit())\n",
    "\n",
    "def get_J_wrt_C(F):\n",
    "    return sympy.Pow(sympy.Determinant(F.T*F),0.5)\n",
    "\n",
    "def get_I1(dim=3):\n",
    "    return sympy.Symbol(\"I1\")\n",
    "\n",
    "def get_I1_wrt_C(F):\n",
    "    return sympy.Pow(sympy.Determinant(F),-2/3)*sympy.Trace(F.T*F)\n",
    "\n",
    "def get_I2(dim=3):\n",
    "    return sympy.Symbol(\"I2\")\n",
    "\n",
    "def get_I2_wrt_C(F):\n",
    "    return sympy.Pow(sympy.Determinant(F),-4/3)*(0.5*(sympy.Pow(sympy.Trace(sympy.MatMul(F.T,F)),2) - sympy.Trace(sympy.MatPow(sympy.MatMul(F.T,F),2))))"
   ]
  },
  {
   "cell_type": "code",
   "execution_count": 37,
   "metadata": {},
   "outputs": [],
   "source": [
    "J, I1, I2 = se.symbols(\"J I1 I2\")\n",
    "F11, F12, F21, F22 = se.symbols(\"F11 F12 F21 F22\")\n",
    "F = sympy.MutableDenseMatrix([[F11, F12, 0],[F21, F22, 0],[0,0,1]])\n",
    "sympy_expression = constitutive_data.to_sympy_expression(to_algebraic_string(nodes,adj))"
   ]
  },
  {
   "cell_type": "code",
   "execution_count": 38,
   "metadata": {},
   "outputs": [
    {
     "data": {
      "text/latex": [
       "$\\displaystyle 2 I_{1} + J + 1.16$"
      ],
      "text/plain": [
       "2*I1 + J + 1.16"
      ]
     },
     "execution_count": 38,
     "metadata": {},
     "output_type": "execute_result"
    }
   ],
   "source": [
    "sympy_expression"
   ]
  },
  {
   "cell_type": "code",
   "execution_count": 50,
   "metadata": {},
   "outputs": [],
   "source": [
    "J_simp = sympy.simplify(get_J_wrt_C(F))\n",
    "I1_simp = sympy.simplify(get_I1_wrt_C(F))\n",
    "I2_simp = sympy.simplify(get_I2_wrt_C(F))"
   ]
  },
  {
   "cell_type": "code",
   "execution_count": 51,
   "metadata": {},
   "outputs": [
    {
     "data": {
      "text/latex": [
       "$\\displaystyle \\frac{2 \\left(F_{11}^{2} + F_{12}^{2} + F_{21}^{2} + F_{22}^{2} + 1\\right)}{\\left(F_{11} F_{22} - F_{12} F_{21}\\right)^{0.666666666666667}} + \\left(F_{11}^{2} F_{22}^{2} - 2 F_{11} F_{12} F_{21} F_{22} + F_{12}^{2} F_{21}^{2}\\right)^{0.5} + 1.16$"
      ],
      "text/plain": [
       "2*(F11**2 + F12**2 + F21**2 + F22**2 + 1)/(F11*F22 - F12*F21)**0.666666666666667 + (F11**2*F22**2 - 2*F11*F12*F21*F22 + F12**2*F21**2)**0.5 + 1.16"
      ]
     },
     "execution_count": 51,
     "metadata": {},
     "output_type": "execute_result"
    }
   ],
   "source": [
    "expression_wrtF = sympy_expression.subs({J:J_simp, I1:I1_simp})\n",
    "expression_wrtF"
   ]
  },
  {
   "cell_type": "code",
   "execution_count": 47,
   "metadata": {},
   "outputs": [],
   "source": [
    "simplified = se.sympify(expression_wrtF)"
   ]
  },
  {
   "cell_type": "code",
   "execution_count": 57,
   "metadata": {},
   "outputs": [
    {
     "data": {
      "text/plain": [
       "4*(F11*F22 - F12*F21)**(-0.666666666666667)*F22 + 0.5*(2*F11**2*F22 - 2*F11*F12*F21)*(F11**2*F22**2 + F12**2*F21**2 - 2*F11*F12*F21*F22)**(-0.5) - 1.33333333333333*(1 + F11**2 + F12**2 + F21**2 + F22**2)*(F11*F22 - F12*F21)**(-1.66666666666667)*F11"
      ]
     },
     "execution_count": 57,
     "metadata": {},
     "output_type": "execute_result"
    }
   ],
   "source": [
    "se.diff(expression_wrtF,F22)"
   ]
  },
  {
   "cell_type": "code",
   "execution_count": null,
   "metadata": {},
   "outputs": [],
   "source": [
    "def compute_invariants():\n",
    "    F11, F12, F21, F22 = se.symbols(\"F11 F12 F21 F22\")\n",
    "    F = sympy.MutableDenseMatrix([[F11, F12, 0],[F21, F22, 0],[0,0,1]])\n",
    "    J  = sympy.Pow(sympy.Determinant(F.T*F),0.5)\n",
    "    I1 = sympy.Pow(sympy.Determinant(F),-2/3)*sympy.Trace(F.T*F)\n",
    "    I2 = sympy.Pow(sympy.Determinant(F),-4/3)*(0.5*(sympy.Pow(sympy.Trace(sympy.MatMul(F.T,F)),2) - sympy.Trace(sympy.MatPow(sympy.MatMul(F.T,F),2))))\n",
    "    return sympy.simplify(J), sympy.simplify(I1), sympy.simplify(I2), F11, F12, F21, F22\n",
    "\n",
    "\n",
    "Ji, I1i, I2i, F11i, F12i, F21i, F22i = compute_invariants()\n",
    "\n",
    "def compute_loss(F11, F12, F21, F22, W, num_nodes_per_element, numNodes,\\\n",
    "                 voigt_map, gradNa, qpWeights, connectivity, dirichlet_nodes, \\\n",
    "                 reactions):\n",
    "\n",
    "    # Get gradients of W w.r.t F (compute)\n",
    "    dW_NN_dF11 = se.diff(W,F11)\n",
    "    dW_NN_dF12 = se.diff(W,F12)\n",
    "    dW_NN_dF21 = se.diff(W,F21)\n",
    "    dW_NN_dF22 = se.diff(W,F22)\n",
    "\n",
    "    P11 = np.zeros((numNodes,))\n",
    "    P21 = np.zeros((numNodes,))\n",
    "    P12 = np.zeros((numNodes,))\n",
    "    P22 = np.zeros((numNodes,))\n",
    "    for i in range(0, numNodes):\n",
    "        P11[i] = np.array(dW_NN_dF11.subs({F11i:F11[i], F12i:F12[i], F21i:F21[i], F22i:F22[i]}).evalf(16)).astype(np.float128)\n",
    "        P12[i] = np.array(dW_NN_dF12.subs({F11i:F11[i], F12i:F12[i], F21i:F21[i], F22i:F22[i]}).evalf(16)).astype(np.float128)\n",
    "        P21[i] = np.array(dW_NN_dF21.subs({F11i:F11[i], F12i:F12[i], F21i:F21[i], F22i:F22[i]}).evalf(16)).astype(np.float128)\n",
    "        P22[i] = np.array(dW_NN_dF22.subs({F11i:F11[i], F12i:F12[i], F21i:F21[i], F22i:F22[i]}).evalf(16)).astype(np.float128)\n",
    "\n",
    "    # Assemble First Piola-Kirchhoff stress components\n",
    "    P = np.concatenate((P11[:,None],P12[:,None],P21[:,None], P22[:,None]),dim=1)\n",
    "\n",
    "    # compute internal forces on nodes\n",
    "    f_int_nodes = np.zeros(numNodes,2)\n",
    "    for a in range(num_nodes_per_element):\n",
    "        for i in range(2):\n",
    "            for j in range(2):\n",
    "                force = P[:,voigt_map[i][j]] * gradNa[a][:,j] * qpWeights\n",
    "                f_int_nodes[:,i].add.at(connectivity[a],0,force)\n",
    "\n",
    "    f_int_nodes_clone = f_int_nodes.clone()\n",
    "    f_int_nodes_clone[dirichlet_nodes] = 0.\n",
    "    eqb_loss = np.sum(f_int_nodes_clone**2)\n",
    "\n",
    "    reaction_loss = np.tensor([0.])\n",
    "    for reaction in reactions:\n",
    "        reaction_loss += (np.sum(f_int_nodes[reaction.dofs]) - reaction.force)**2\n",
    "    loss += eqb_loss +  reaction_loss\n",
    "    return loss"
   ]
  },
  {
   "cell_type": "code",
   "execution_count": null,
   "metadata": {},
   "outputs": [],
   "source": []
  }
 ],
 "metadata": {
  "kernelspec": {
   "display_name": "base",
   "language": "python",
   "name": "python3"
  },
  "language_info": {
   "codemirror_mode": {
    "name": "ipython",
    "version": 3
   },
   "file_extension": ".py",
   "mimetype": "text/x-python",
   "name": "python",
   "nbconvert_exporter": "python",
   "pygments_lexer": "ipython3",
   "version": "3.11.4"
  }
 },
 "nbformat": 4,
 "nbformat_minor": 2
}
