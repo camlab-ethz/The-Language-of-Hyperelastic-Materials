{
 "cells": [
  {
   "cell_type": "code",
   "execution_count": 1,
   "metadata": {},
   "outputs": [],
   "source": [
    "import constitutive_data\n",
    "import sympy"
   ]
  },
  {
   "cell_type": "code",
   "execution_count": 2,
   "metadata": {},
   "outputs": [
    {
     "name": "stdout",
     "output_type": "stream",
     "text": [
      "Elapsed tie: 0.0002823190000640352\n",
      "2.0*I1 + I1**2.0 + 7.67*I2**1.5 - 54.85 2 1\n"
     ]
    }
   ],
   "source": [
    "import timeit\n",
    "start = timeit.timeit()\n",
    "expression, growthCount, positivityCount = constitutive_data.sample_tree_with_corrections()\n",
    "end = timeit.timeit()\n",
    "print(\"Elapsed tie:\",end - start)\n",
    "print(expression, growthCount, positivityCount)"
   ]
  },
  {
   "cell_type": "code",
   "execution_count": null,
   "metadata": {},
   "outputs": [],
   "source": [
    "running_example_expression = '3*I1**2 + (J-0.5)**2'\n",
    "running_example_expr = str(running_example_expression).replace('J', 'Symbol(\"J\")')\n",
    "running_example_expr = str(running_example_expr).replace('I1', 'Symbol(\"I1\")')\n",
    "running_example_expr = str(running_example_expr).replace('I2', 'Symbol(\"I2\")')\n",
    "running_example_expr = constitutive_data.to_sympy_expression(running_example_expr)\n",
    "print(running_example_expr)"
   ]
  },
  {
   "cell_type": "code",
   "execution_count": null,
   "metadata": {},
   "outputs": [],
   "source": [
    "I1 = sympy.symbols(\"I1\") \n",
    "J  = sympy.symbols(\"J\") \n",
    "F = sympy.MatrixSymbol(\"F\",3,3)\n",
    "stress_correction_FequalI = constitutive_data.stress_correction(running_example_expr, F)\n",
    "\n",
    "potential_correction = sympy.simplify(running_example_expr.subs({I1:3, J:1})).evalf(4) \n",
    "potential_correction_expression =  - potential_correction\n",
    "final_expression = running_example_expr  + potential_correction_expression.evalf(4) + stress_correction_FequalI.evalf(4)"
   ]
  },
  {
   "cell_type": "code",
   "execution_count": null,
   "metadata": {},
   "outputs": [],
   "source": []
  }
 ],
 "metadata": {
  "kernelspec": {
   "display_name": "Python 3.9.16 ('base')",
   "language": "python",
   "name": "python3"
  },
  "language_info": {
   "codemirror_mode": {
    "name": "ipython",
    "version": 3
   },
   "file_extension": ".py",
   "mimetype": "text/x-python",
   "name": "python",
   "nbconvert_exporter": "python",
   "pygments_lexer": "ipython3",
   "version": "3.11.4"
  },
  "orig_nbformat": 4,
  "vscode": {
   "interpreter": {
    "hash": "5d56b4651d046af739aeb3150c1a276ade4d012fb52a40b2e9f25f232fb5e076"
   }
  }
 },
 "nbformat": 4,
 "nbformat_minor": 2
}
