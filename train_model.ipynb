{
 "cells": [
  {
   "cell_type": "code",
   "execution_count": null,
   "metadata": {},
   "outputs": [],
   "source": [
    "import time\n",
    "import edist.ted as ted\n",
    "import numpy as np\n",
    "import hyperelastic_laws as hyperelastic\n",
    "import torch"
   ]
  },
  {
   "cell_type": "code",
   "execution_count": null,
   "metadata": {},
   "outputs": [],
   "source": [
    "task = 'hyperelastic_discovery'\n",
    "\n",
    "T = 3125*6\n",
    "N = 32\n",
    "N_test = 100\n",
    "\n",
    "learning_rate = 1E-3\n",
    "weight_decay = 1e-4\n",
    "print_step = 100"
   ]
  },
  {
   "cell_type": "code",
   "execution_count": null,
   "metadata": {},
   "outputs": [],
   "source": [
    "import recursive_tree_grammar_auto_encoder as rtg_ae\n",
    "dim = 128\n",
    "dim_vae  = 8\n",
    "num_params = 0\n",
    "model = rtg_ae.TreeGrammarAutoEncoder(hyperelastic.grammar, dim = dim, dim_vae = dim_vae)\n",
    "for key in model.state_dict():\n",
    "    num_params += model.state_dict()[key].numel()\n",
    "print('The model contains %d parameters' % num_params)"
   ]
  },
  {
   "cell_type": "code",
   "execution_count": null,
   "metadata": {},
   "outputs": [],
   "source": [
    "training_data = []\n",
    "for j in range(N * T):\n",
    "    nodes, adj = hyperelastic.sample_tree()\n",
    "    training_data.append((nodes, adj))\n",
    "test_data = []\n",
    "for j in range(N_test):\n",
    "    nodes, adj = hyperelastic.sample_tree()\n",
    "    test_data.append((nodes, adj))\n",
    "start_time = time.time()\n",
    "optimizer = torch.optim.Adam(model.parameters(), lr=learning_rate, weight_decay=weight_decay)\n",
    "for epoch in range(1, T + 1):\n",
    "    optimizer.zero_grad()\n",
    "    minibatch_loss = 0.\n",
    "    for j in range(N*(epoch-1), N*epoch):\n",
    "        nodes, adj = training_data[j]\n",
    "        loss = model.compute_loss(nodes, adj, beta = 0.0001, sigma_scaling = 0.0001)\n",
    "        minibatch_loss += loss.item()\n",
    "        loss.backward()\n",
    "    optimizer.step()\n",
    "    minibatch_loss /= N\n",
    "    avg_loss = minibatch_loss\n",
    "    if(epoch % print_step == 0):\n",
    "        print('loss avg after %d data points: %g' % (epoch * N, avg_loss))\n",
    "print('finished training after %g seconds' % (time.time() - start_time))\n",
    "sqe = 0.\n",
    "for nodes, adj in test_data:\n",
    "    _, z = model.encode(nodes, adj)\n",
    "    nodes_act, adj_act, _ = model.decode(z, max_size = 100)\n",
    "    d = ted.ted(nodes, adj, nodes_act, adj_act)\n",
    "    sqe += d * d\n",
    "rmse = np.sqrt(sqe / N_test)\n",
    "print('obtained RMSE of %g' % rmse)\n",
    "# torch.save(model.state_dict(), 'results/%s_%s.torch' % (task, model))"
   ]
  },
  {
   "cell_type": "code",
   "execution_count": null,
   "metadata": {},
   "outputs": [],
   "source": [
    "sqe = 0.\n",
    "for nodes, adj in test_data:\n",
    "    # encode it\n",
    "    _, z = model.encode(nodes, adj)\n",
    "    nodes_act, adj_act, _ = model.decode(z, max_size = 100)\n",
    "    d = ted.ted(nodes, adj, nodes_act, adj_act)\n",
    "    sqe += d * d\n",
    "    print(hyperelastic.to_algebraic_string(nodes,adj))\n",
    "    print(hyperelastic.to_algebraic_string(nodes_act,adj_act))\n",
    "rmse = np.sqrt(sqe / N_test)\n",
    "print('obtained RMSE of %g' % rmse)"
   ]
  },
  {
   "cell_type": "code",
   "execution_count": null,
   "metadata": {},
   "outputs": [],
   "source": []
  }
 ],
 "metadata": {
  "kernelspec": {
   "display_name": "Python 3",
   "language": "python",
   "name": "python3"
  },
  "language_info": {
   "codemirror_mode": {
    "name": "ipython",
    "version": 3
   },
   "file_extension": ".py",
   "mimetype": "text/x-python",
   "name": "python",
   "nbconvert_exporter": "python",
   "pygments_lexer": "ipython3",
   "version": "3.11.4"
  }
 },
 "nbformat": 4,
 "nbformat_minor": 2
}
